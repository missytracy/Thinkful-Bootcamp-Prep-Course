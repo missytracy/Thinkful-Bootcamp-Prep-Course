{
 "cells": [
  {
   "cell_type": "markdown",
   "metadata": {},
   "source": [
    "### Data Source: Amsterdam availability data scraped from AirBnB on December 24th. Question: What are the popular neighborhoods in Amsterdam?\n",
    "The data is collected on Christmas Eve, which is very likely to not representative of normal AirBnB behavior.  Certain neighborhoods may have more holiday festivities or other characteristcs that would cause people to prefer it over another location for this specific time interval.\n",
    "\n",
    "### Data Source: Mental health services use on September 12, 2001 in San Francisco, CA and New York City, NY. Question: How do patterns of mental health service use vary between cities?\n",
    "The survey date represents a time when mental health was undoubtedly strained nationwide; however, mental health in NYC the day following 9/11 would be an extremely exceptional circumstance.\n",
    "\n",
    "### Data Source: Armenian Pub Survey. Question: What are the most common reasons Armenians visit local pubs?\n",
    "The survey appears to have been conducted over a short time period (less than 24 hrs) and near a university, therefore biasing the sample population to younger university students (70% identify as students, avg. age of 19.5 yrs). "
   ]
  },
  {
   "cell_type": "code",
   "execution_count": null,
   "metadata": {},
   "outputs": [],
   "source": []
  }
 ],
 "metadata": {
  "kernelspec": {
   "display_name": "Python 3",
   "language": "python",
   "name": "python3"
  },
  "language_info": {
   "codemirror_mode": {
    "name": "ipython",
    "version": 3
   },
   "file_extension": ".py",
   "mimetype": "text/x-python",
   "name": "python",
   "nbconvert_exporter": "python",
   "pygments_lexer": "ipython3",
   "version": "3.6.3"
  }
 },
 "nbformat": 4,
 "nbformat_minor": 2
}

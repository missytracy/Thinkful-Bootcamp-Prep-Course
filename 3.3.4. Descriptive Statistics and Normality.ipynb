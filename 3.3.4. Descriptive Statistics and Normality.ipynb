{
 "cells": [
  {
   "cell_type": "markdown",
   "metadata": {},
   "source": [
    "# 3.3.4. Descriptive Statistics and Normality\n",
    "\n",
    "Create six distributions with 100 datapoints.  Graph using a histogram, add in mean and standard deviation.  Are descriptive statistics useful for the given distribution?"
   ]
  },
  {
   "cell_type": "code",
   "execution_count": 2,
   "metadata": {},
   "outputs": [],
   "source": [
    "import numpy as np\n",
    "import pandas as pd\n",
    "import matplotlib.pyplot as plt\n",
    "%matplotlib inline"
   ]
  },
  {
   "cell_type": "markdown",
   "metadata": {},
   "source": [
    "## 1. Exponential"
   ]
  },
  {
   "cell_type": "code",
   "execution_count": 34,
   "metadata": {},
   "outputs": [
    {
     "data": {
      "image/png": "[encoded data removed]",
      "text/plain": [
       "<matplotlib.figure.Figure at 0x336a530>"
      ]
     },
     "metadata": {},
     "output_type": "display_data"
    }
   ],
   "source": [
    "exp = np.random.exponential(1, 100)\n",
    "\n",
    "# Plot a histogram.\n",
    "plt.hist(exp)\n",
    "\n",
    "# Add vertical lines at the mean\n",
    "plt.axvline(exp.mean(), color='b', linestyle='solid', linewidth=2)\n",
    "\n",
    "# Add vertical line at one standard dev above the mean.\n",
    "plt.axvline(exp.mean() + exp.std(), color='b', linestyle='dashed',linewidth=2)\n",
    "\n",
    "# Add vertical line at one standard dev below the mean.\n",
    "plt.axvline(exp.mean() - exp.std(), color='b', linestyle='dashed', linewidth=2)\n",
    "\n",
    "# Print the histogram.\n",
    "plt.show()"
   ]
  },
  {
   "cell_type": "markdown",
   "metadata": {},
   "source": [
    "Descriptive statistics are not useful here. Data is skewed left and the mean is not representative of the central tendency."
   ]
  },
  {
   "cell_type": "markdown",
   "metadata": {},
   "source": [
    "## 2. Beta"
   ]
  },
  {
   "cell_type": "code",
   "execution_count": 164,
   "metadata": {},
   "outputs": [
    {
     "data": {
      "image/png": "[encoded data removed]",
      "text/plain": [
       "<matplotlib.figure.Figure at 0x32d25b0>"
      ]
     },
     "metadata": {},
     "output_type": "display_data"
    }
   ],
   "source": [
    "beta = np.random.beta(1, 2, 100)\n",
    "\n",
    "# Plot a histogram.\n",
    "plt.hist(beta)\n",
    "\n",
    "# Add vertical lines at the mean\n",
    "plt.axvline(beta.mean(), color='b', linestyle='solid', linewidth=2)\n",
    "\n",
    "# Add vertical line at one standard dev above the mean.\n",
    "plt.axvline(beta.mean() + beta.std(), color='b', linestyle='dashed',linewidth=2)\n",
    "\n",
    "# Add vertical line at one standard dev below the mean.\n",
    "plt.axvline(beta.mean() - beta.std(), color='b', linestyle='dashed', linewidth=2)\n",
    "\n",
    "# Print the histogram.\n",
    "plt.show()"
   ]
  },
  {
   "cell_type": "markdown",
   "metadata": {},
   "source": [
    "Descriptive statistics are not useful here. Data is skewed left."
   ]
  },
  {
   "cell_type": "markdown",
   "metadata": {},
   "source": [
    "## 3. Lognormal       "
   ]
  },
  {
   "cell_type": "code",
   "execution_count": 56,
   "metadata": {},
   "outputs": [
    {
     "data": {
      "image/png": "[encoded data removed]",
      "text/plain": [
       "<matplotlib.figure.Figure at 0x32fef90>"
      ]
     },
     "metadata": {},
     "output_type": "display_data"
    }
   ],
   "source": [
    "log = np.random.lognormal(1, 1, 100)\n",
    "\n",
    "# Plot a histogram.\n",
    "plt.hist(log)\n",
    "\n",
    "# Add vertical lines at the mean\n",
    "plt.axvline(log.mean(), color='b', linestyle='solid', linewidth=2)\n",
    "\n",
    "# Add vertical line at one standard dev above the mean.\n",
    "plt.axvline(log.mean() + log.std(), color='b', linestyle='dashed',linewidth=2)\n",
    "\n",
    "# Add vertical line at one standard dev below the mean.\n",
    "plt.axvline(log.mean() - log.std(), color='b', linestyle='dashed', linewidth=2)\n",
    "\n",
    "# Print the histogram.\n",
    "plt.show()"
   ]
  },
  {
   "cell_type": "markdown",
   "metadata": {},
   "source": [
    "Descriptive statistics are not useful here. Data is skewed left and mean does not represent central tendency."
   ]
  },
  {
   "cell_type": "markdown",
   "metadata": {},
   "source": [
    "## 4. Pareto"
   ]
  },
  {
   "cell_type": "code",
   "execution_count": 77,
   "metadata": {},
   "outputs": [
    {
     "data": {
      "image/png": "[encoded data removed]",
      "text/plain": [
       "<matplotlib.figure.Figure at 0x33ec410>"
      ]
     },
     "metadata": {},
     "output_type": "display_data"
    }
   ],
   "source": [
    "pareto = np.random.pareto(1, 100)\n",
    "\n",
    "# Plot a histogram.\n",
    "plt.hist(pareto)\n",
    "\n",
    "# Add vertical lines at the mean\n",
    "plt.axvline(pareto.mean(), color='b', linestyle='solid', linewidth=2)\n",
    "\n",
    "# Add vertical line at one standard dev above the mean.\n",
    "plt.axvline(pareto.mean() + pareto.std(), color='b', linestyle='dashed',linewidth=2)\n",
    "\n",
    "# Add vertical line at one standard dev below the mean.\n",
    "plt.axvline(pareto.mean() - pareto.std(), color='b', linestyle='dashed', linewidth=2)\n",
    "\n",
    "# Print the histogram.\n",
    "plt.show()"
   ]
  },
  {
   "cell_type": "markdown",
   "metadata": {},
   "source": [
    "The mean is representative of the central tendency of the data, however the standard deviation is not."
   ]
  },
  {
   "cell_type": "markdown",
   "metadata": {},
   "source": [
    "## 5.  Uniform"
   ]
  },
  {
   "cell_type": "code",
   "execution_count": 81,
   "metadata": {},
   "outputs": [
    {
     "data": {
      "image/png": "[encoded data removed]",
      "text/plain": [
       "<matplotlib.figure.Figure at 0x32fe610>"
      ]
     },
     "metadata": {},
     "output_type": "display_data"
    }
   ],
   "source": [
    "uniform = np.random.uniform(0, 2000, 100)\n",
    "\n",
    "# Plot a histogram.\n",
    "plt.hist(uniform)\n",
    "\n",
    "# Add vertical lines at the mean\n",
    "plt.axvline(uniform.mean(), color='b', linestyle='solid', linewidth=2)\n",
    "\n",
    "# Add vertical line at one standard dev above the mean.\n",
    "plt.axvline(uniform.mean() + uniform.std(), color='b', linestyle='dashed',linewidth=2)\n",
    "\n",
    "# Add vertical line at one standard dev below the mean.\n",
    "plt.axvline(uniform.mean() - uniform.std(), color='b', linestyle='dashed', linewidth=2)\n",
    "\n",
    "# Print the histogram.\n",
    "plt.show()"
   ]
  },
  {
   "cell_type": "markdown",
   "metadata": {},
   "source": [
    "Descriptive statistics are not useful here. Data has no central tendency.  High frequency of data outside +/- one standard deviation."
   ]
  },
  {
   "cell_type": "markdown",
   "metadata": {},
   "source": [
    "## 6. Wald"
   ]
  },
  {
   "cell_type": "code",
   "execution_count": 161,
   "metadata": {},
   "outputs": [
    {
     "data": {
      "image/png": "[encoded data removed]",
      "text/plain": [
       "<matplotlib.figure.Figure at 0x33b3cb0>"
      ]
     },
     "metadata": {},
     "output_type": "display_data"
    }
   ],
   "source": [
    "wald = np.random.wald(50, 200, 100)\n",
    "\n",
    "# Plot a histogram.\n",
    "plt.hist(wald)\n",
    "\n",
    "# Add vertical lines at the mean\n",
    "plt.axvline(wald.mean(), color='b', linestyle='solid', linewidth=2)\n",
    "\n",
    "# Add vertical line at one standard dev above the mean.\n",
    "plt.axvline(wald.mean() + wald.std(), color='b', linestyle='dashed',linewidth=2)\n",
    "\n",
    "# Add vertical line at one standard dev below the mean.\n",
    "plt.axvline(wald.mean() - wald.std(), color='b', linestyle='dashed', linewidth=2)\n",
    "\n",
    "# Print the histogram.\n",
    "plt.show()"
   ]
  },
  {
   "cell_type": "markdown",
   "metadata": {},
   "source": [
    "Scale = second value in argument. <br><br>\n",
    "At a low scale, descriptive statistics are do not accurately represent the data and the distribution is skewed.  As the scale increases, the data takes on more characteristics of normality and descriptive statistics become more useful.\n",
    "\n",
    "#### * Overall conclusion: Descriptive statistics don't work for non-normal distributions. *"
   ]
  },
  {
   "cell_type": "markdown",
   "metadata": {},
   "source": [
    "## Adding two normally-distributed variables:"
   ]
  },
  {
   "cell_type": "code",
   "execution_count": 155,
   "metadata": {},
   "outputs": [
    {
     "data": {
      "image/png": "[encoded data removed]",
      "text/plain": [
       "<matplotlib.figure.Figure at 0xa9436b0>"
      ]
     },
     "metadata": {},
     "output_type": "display_data"
    }
   ],
   "source": [
    "var1 = np.random.normal(5, 0.5, 100)\n",
    "var2 = np.random.normal(10, 1, 100)\n",
    "var3 = var1 + var2\n",
    "\n",
    "#Plot histogram\n",
    "plt.hist(var3)\n",
    "\n",
    "# Add vertical lines at the mean\n",
    "plt.axvline(var3.mean(), color='b', linestyle='solid', linewidth=2)\n",
    "\n",
    "# Add vertical line at one standard dev above the mean.\n",
    "plt.axvline(var3.mean() + var3.std(), color='b', linestyle='dashed',linewidth=2)\n",
    "\n",
    "# Add vertical line at one standard dev below the mean.\n",
    "plt.axvline(var3.mean() - var3.std(), color='b', linestyle='dashed', linewidth=2)\n",
    "\n",
    "#Print histograms\n",
    "plt.show()"
   ]
  },
  {
   "cell_type": "markdown",
   "metadata": {},
   "source": [
    "Descriptive statistics somewhat describe the data.  The mean generally represents the central tendency of the data, however the distribution tends to be slightly skewed each time the data is re-run."
   ]
  }
 ],
 "metadata": {
  "kernelspec": {
   "display_name": "Python 3",
   "language": "python",
   "name": "python3"
  },
  "language_info": {
   "codemirror_mode": {
    "name": "ipython",
    "version": 3
   },
   "file_extension": ".py",
   "mimetype": "text/x-python",
   "name": "python",
   "nbconvert_exporter": "python",
   "pygments_lexer": "ipython3",
   "version": "3.6.3"
  }
 },
 "nbformat": 4,
 "nbformat_minor": 2
}

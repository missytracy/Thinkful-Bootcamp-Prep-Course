{
 "cells": [
  {
   "cell_type": "code",
   "execution_count": 12,
   "metadata": {},
   "outputs": [],
   "source": [
    "import numpy as np\n",
    "import pandas as pd\n",
    "import statistics"
   ]
  },
  {
   "cell_type": "markdown",
   "metadata": {},
   "source": [
    "### 1. Greg was 14, Marcia was 12, Peter was 11, Jan was 10, Bobby was 8, and Cindy was 6.  Cousin Oliver was 8.  Find mean, median, mode, variance, std dev, and std error of the ages."
   ]
  },
  {
   "cell_type": "code",
   "execution_count": 13,
   "metadata": {},
   "outputs": [
    {
     "name": "stdout",
     "output_type": "stream",
     "text": [
      "Mean = 9.857142857142858\n",
      "Median = 10.0\n",
      "Mode = 8\n",
      "Variance = 7.476190476190475\n",
      "Std Dev = 2.531435020952764\n",
      "Std Error = 1.0334540197243192\n"
     ]
    }
   ],
   "source": [
    "#Generate data frame:\n",
    "cast_age = pd.DataFrame()\n",
    "cast_age['name'] = ['Greg', 'Marcia', 'Peter', 'Jan', 'Bobby', 'Cindy', 'Oliver']\n",
    "cast_age['age'] = [14, 12, 11, 10, 8, 6, 8]\n",
    "\n",
    "#Central tendency - mean, median, mode:\n",
    "print('Mean = {}'.format(np.mean(cast_age['age'])))\n",
    "print('Median = {}'.format(np.median(cast_age['age'])))\n",
    "print('Mode = {}'.format(statistics.mode(cast_age['age'])))\n",
    "\n",
    "#Measures of variance - variance, std deviation, std error:\n",
    "print('Variance = {}'.format(cast_age['age'].var()))\n",
    "print('Std Dev = {}'.format(np.std(cast_age['age'])))\n",
    "print('Std Error = {}'.format((np.std(cast_age['age'], ddof=1))/(np.sqrt(len(cast_age['age'])))))\n"
   ]
  },
  {
   "cell_type": "markdown",
   "metadata": {},
   "source": [
    "### 2. Using these estimates, if you had to choose only one estimate of central tendency and one estimate of variance to describe the data, which would you pick and why?\n",
    "\n",
    "For this particular data set, I'd choose the median to best represent the central tendency.  The mode identifies the second youngest age as being the most common which biases the central tendancy low.  The mean is also quite low relative to all the data points because of Cindy's age.\n",
    "\n",
    "I would choose the variance as the best indicator of variance in the dataset.  The variance is high, indicating there are datapoints that are considerably different from the mean."
   ]
  },
  {
   "cell_type": "markdown",
   "metadata": {},
   "source": [
    "### 3. Next, Cindy has a birthday. Update your estimates- what changed, and what didn't?"
   ]
  },
  {
   "cell_type": "code",
   "execution_count": 14,
   "metadata": {},
   "outputs": [
    {
     "name": "stdout",
     "output_type": "stream",
     "text": [
      "Mean = 10.0\n",
      "Median = 10.0\n",
      "Mode = 8\n",
      "Variance = 6.333333333333333\n",
      "Std Dev = 2.32992949004287\n",
      "Std Error = 0.9511897312113418\n"
     ]
    }
   ],
   "source": [
    "cast_age['name'] = ['Greg', 'Marcia', 'Peter', 'Jan', 'Bobby', 'Cindy', 'Oliver']\n",
    "cast_age['age'] = [14, 12, 11, 10, 8, 7, 8]\n",
    "\n",
    "#Central tendency - mean, median, mode:\n",
    "print('Mean = {}'.format(np.mean(cast_age['age'])))\n",
    "print('Median = {}'.format(np.median(cast_age['age'])))\n",
    "print('Mode = {}'.format(statistics.mode(cast_age['age'])))\n",
    "\n",
    "#Measures of variance - variance, std deviation, std error:\n",
    "print('Variance = {}'.format(cast_age['age'].var()))\n",
    "print('Std Dev = {}'.format(np.std(cast_age['age'])))\n",
    "print('Std Error = {}'.format((np.std(cast_age['age'], ddof=1))/(np.sqrt(len(cast_age['age'])))))\n"
   ]
  },
  {
   "cell_type": "markdown",
   "metadata": {},
   "source": [
    "The mean, variance, std dev, and std error changed.  The mean increased while the std dev and std error decreased, indicating the individual datapoints are more similiar to the central tendency than they were before.  The median and mode did not change."
   ]
  },
  {
   "cell_type": "markdown",
   "metadata": {},
   "source": [
    "### 4. Nobody likes Cousin Oliver. Maybe the network should have used an even younger actor. Replace Cousin Oliver with 1-year-old Jessica, then recalculate again. Does this change your choice of central tendency or variance estimation methods?"
   ]
  },
  {
   "cell_type": "code",
   "execution_count": 11,
   "metadata": {},
   "outputs": [
    {
     "name": "stdout",
     "output_type": "stream",
     "text": [
      "Mean = 9.0\n",
      "Median = 10.0\n",
      "(array([ 1,  7,  8, 10, 11, 12, 14], dtype=int64), array([1, 1, 1, 1, 1, 1, 1]))\n",
      "Mode = 1\n",
      "Variance = 18.0\n",
      "Std Dev = 3.927922024247863\n",
      "Std Error = 1.6035674514745462\n"
     ]
    }
   ],
   "source": [
    "cast_age['name'] = ['Greg', 'Marcia', 'Peter', 'Jan', 'Bobby', 'Cindy', 'Jessica']\n",
    "cast_age['age'] = [14, 12, 11, 10, 8, 7, 1]\n",
    "\n",
    "#Central tendency - mean, median, mode:\n",
    "print('Mean = {}'.format(np.mean(cast_age['age'])))\n",
    "print('Median = {}'.format(np.median(cast_age['age'])))\n",
    "\n",
    "#mode\n",
    "(values, counts) = np.unique(cast_age['age'], return_counts=True)\n",
    "ind = np.argmax(counts)\n",
    "print((values, counts))\n",
    "values[ind]\n",
    "print('Mode = {}'.format(values[ind]))\n",
    "\n",
    "#Measures of variance - variance, std deviation, std error:\n",
    "print('Variance = {}'.format(cast_age['age'].var()))\n",
    "print('Std Dev = {}'.format(np.std(cast_age['age'])))\n",
    "print('Std Error = {}'.format((np.std(cast_age['age'], ddof=1))/(np.sqrt(len(cast_age['age'])))))\n"
   ]
  },
  {
   "cell_type": "markdown",
   "metadata": {},
   "source": [
    "Replacing Oliver with Jessica changes all of the central tendency and variance values except the median.  The mean and median are similar estimates of the central tendency.  There is no mode as all values occur only once.  The variance is very high because there is a large spread in the data.  The std dev and std error also increased."
   ]
  },
  {
   "cell_type": "markdown",
   "metadata": {},
   "source": [
    "### 5. On the 50th anniversary of The Brady Bunch, four different magazines asked their readers whether they were fans of the show. The answers were: TV Guide 20% fans Entertainment Weekly 23% fans Pop Culture Today 17% fans SciPhi Phanatic 5% fans\n",
    "\n",
    "### Based on these numbers, what percentage of adult Americans would you estimate were Brady Bunch fans on the 50th anniversary of the show?"
   ]
  },
  {
   "cell_type": "code",
   "execution_count": 20,
   "metadata": {},
   "outputs": [
    {
     "name": "stdout",
     "output_type": "stream",
     "text": [
      "Mean = 16.25\n",
      "Median = 18.5\n",
      "Variance = 62.25\n",
      "Std Dev = 6.832825184358224\n",
      "Std Error = 3.944933459514875\n"
     ]
    }
   ],
   "source": [
    "fans = pd.DataFrame()\n",
    "fans['magazine'] = ['tv guide', 'entertainment weekly', 'pop culture today', 'sciphi']\n",
    "fans['value'] = [20, 23, 17, 5]\n",
    "\n",
    "#Central tendency - mean, median\n",
    "print('Mean = {}'.format(np.mean(fans['value'])))\n",
    "print('Median = {}'.format(np.median(fans['value'])))\n",
    "\n",
    "#Measures of variance - variance, std deviation, std error:\n",
    "print('Variance = {}'.format(fans['value'].var()))\n",
    "print('Std Dev = {}'.format(np.std(fans['value'])))\n",
    "print('Std Error = {}'.format((np.std(fans['value'], ddof=1))/(np.sqrt(len(fans['value'])))))\n"
   ]
  },
  {
   "cell_type": "markdown",
   "metadata": {},
   "source": [
    "Based on the answers, I would rely on the mean and estimate 16% of adult Americans were fans of the show on the 50th Anniversary.  There is large variance in the data, so using the mean is the best measure of central tendency because it incorporates all values.  "
   ]
  },
  {
   "cell_type": "markdown",
   "metadata": {},
   "source": []
  }
 ],
 "metadata": {
  "kernelspec": {
   "display_name": "Python 3",
   "language": "python",
   "name": "python3"
  },
  "language_info": {
   "codemirror_mode": {
    "name": "ipython",
    "version": 3
   },
   "file_extension": ".py",
   "mimetype": "text/x-python",
   "name": "python",
   "nbconvert_exporter": "python",
   "pygments_lexer": "ipython3",
   "version": "3.6.3"
  }
 },
 "nbformat": 4,
 "nbformat_minor": 2
}
